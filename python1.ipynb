{
 "cells": [
  {
   "cell_type": "code",
   "execution_count": 1,
   "id": "7bae2095",
   "metadata": {},
   "outputs": [
    {
     "name": "stdout",
     "output_type": "stream",
     "text": [
      "Hello World \n"
     ]
    }
   ],
   "source": [
    "# جملة الطباعة \n",
    "\n",
    "print('Hello World ')"
   ]
  },
  {
   "cell_type": "code",
   "execution_count": 2,
   "id": "339600f2",
   "metadata": {},
   "outputs": [
    {
     "name": "stdout",
     "output_type": "stream",
     "text": [
      "welcome to   python program \n"
     ]
    }
   ],
   "source": [
    "# الدمج في جملة الطباعة\n",
    "\n",
    "print(\"welcome to \" , \" python program \")"
   ]
  },
  {
   "cell_type": "code",
   "execution_count": 3,
   "id": "cbbf5797",
   "metadata": {},
   "outputs": [
    {
     "name": "stdout",
     "output_type": "stream",
     "text": [
      " a= 9 \n",
      "b=  python \n",
      "c= True \n",
      "x= 8 \n",
      "y= c++ \n",
      "z= 3.5\n"
     ]
    }
   ],
   "source": [
    "# المتغيرات\n",
    "a=9 \n",
    "b=\"python\"\n",
    "c=True \n",
    "x,y,z = 8,\"c++\",3.5\n",
    "print(\" a=\",a, \"\\nb= \",b,\"\\nc=\",c,\"\\nx=\",x,\"\\ny=\",y,\"\\nz=\",z)"
   ]
  },
  {
   "cell_type": "code",
   "execution_count": 4,
   "id": "660e336f",
   "metadata": {},
   "outputs": [
    {
     "name": "stdout",
     "output_type": "stream",
     "text": [
      "<class 'int'> <class 'str'> <class 'bool'> <class 'float'>\n"
     ]
    }
   ],
   "source": [
    "# أنواع المتغيرات\n",
    "\n",
    "print(type(a), type(b),type(c),type(z))"
   ]
  },
  {
   "cell_type": "code",
   "execution_count": 5,
   "id": "6a26696d",
   "metadata": {},
   "outputs": [
    {
     "name": "stdout",
     "output_type": "stream",
     "text": [
      "<class 'str'> <class 'float'>\n",
      "9 8.0\n"
     ]
    }
   ],
   "source": [
    "# التحويل من نوع إلى آخر\n",
    "\n",
    "w= str(a)\n",
    "r= float(x)\n",
    "print(type(w), type(r))\n",
    "print(w , r)"
   ]
  },
  {
   "cell_type": "code",
   "execution_count": 6,
   "id": "91122c35",
   "metadata": {},
   "outputs": [
    {
     "name": "stdout",
     "output_type": "stream",
     "text": [
      "40 \t 20 \t 300 \t 3.0 \t 0 \t 590490000000000 \t False \t True\n",
      "True \t False \t True \t True\n",
      "False\n",
      "True\n"
     ]
    }
   ],
   "source": [
    "#العمليات الرياضية \n",
    "\n",
    "h,t=30,10\n",
    "\n",
    "print(h+t , \"\\t\" , h-t ,\"\\t\" , h*t ,\"\\t\", h/t,\"\\t\", h%t , \"\\t\", h**t ,\"\\t\", h==t ,\"\\t\",h!=t)\n",
    "print(h>t , \"\\t\", h<t ,\"\\t\",h>=t ,\"\\t\", t<=h)\n",
    "print(50< h <70)\n",
    "print(20<h <45)\n"
   ]
  },
  {
   "cell_type": "code",
   "execution_count": 7,
   "id": "b3c410c1",
   "metadata": {},
   "outputs": [
    {
     "name": "stdout",
     "output_type": "stream",
     "text": [
      "welcome to python program \n",
      " welcome*to*python*program\n"
     ]
    }
   ],
   "source": [
    "# السلاسل string\n",
    "\n",
    "a=\"welcome to python program\"\n",
    "b='welcome*to*python*program'\n",
    "print(a,\"\\n\",b)\n"
   ]
  },
  {
   "cell_type": "code",
   "execution_count": 8,
   "id": "fe318301",
   "metadata": {},
   "outputs": [
    {
     "name": "stdout",
     "output_type": "stream",
     "text": [
      "w\n"
     ]
    }
   ],
   "source": [
    "print(a[0])"
   ]
  },
  {
   "cell_type": "code",
   "execution_count": 9,
   "id": "c34c7909",
   "metadata": {},
   "outputs": [
    {
     "name": "stdout",
     "output_type": "stream",
     "text": [
      " \n"
     ]
    }
   ],
   "source": [
    "print(a[7])"
   ]
  },
  {
   "cell_type": "code",
   "execution_count": 10,
   "id": "c3032fb6",
   "metadata": {},
   "outputs": [
    {
     "name": "stdout",
     "output_type": "stream",
     "text": [
      "m\n"
     ]
    }
   ],
   "source": [
    "print(a[-1])"
   ]
  },
  {
   "cell_type": "code",
   "execution_count": 11,
   "id": "6443bb9e",
   "metadata": {},
   "outputs": [
    {
     "name": "stdout",
     "output_type": "stream",
     "text": [
      "welcome to python programwelcome to python programwelcome to python program\n"
     ]
    }
   ],
   "source": [
    "print(a*3)"
   ]
  },
  {
   "cell_type": "code",
   "execution_count": 12,
   "id": "06cc7ef6",
   "metadata": {},
   "outputs": [
    {
     "name": "stdout",
     "output_type": "stream",
     "text": [
      "lllll\n"
     ]
    }
   ],
   "source": [
    "print(a[2]*5)"
   ]
  },
  {
   "cell_type": "code",
   "execution_count": 13,
   "id": "b01edd7c",
   "metadata": {},
   "outputs": [
    {
     "name": "stdout",
     "output_type": "stream",
     "text": [
      "python\n"
     ]
    }
   ],
   "source": [
    "print(a[11:17])"
   ]
  },
  {
   "cell_type": "code",
   "execution_count": 14,
   "id": "04b9b0bc",
   "metadata": {},
   "outputs": [
    {
     "name": "stdout",
     "output_type": "stream",
     "text": [
      "welcome\n"
     ]
    }
   ],
   "source": [
    "print(a[:7])"
   ]
  },
  {
   "cell_type": "code",
   "execution_count": 15,
   "id": "5721efcd",
   "metadata": {},
   "outputs": [
    {
     "name": "stdout",
     "output_type": "stream",
     "text": [
      "to python program\n"
     ]
    }
   ],
   "source": [
    "print(a[8:])"
   ]
  },
  {
   "cell_type": "code",
   "execution_count": 16,
   "id": "9a7dccad",
   "metadata": {},
   "outputs": [
    {
     "name": "stdout",
     "output_type": "stream",
     "text": [
      "welcome to python program\n"
     ]
    }
   ],
   "source": [
    "print(a[:])"
   ]
  },
  {
   "cell_type": "code",
   "execution_count": 17,
   "id": "711ffc9a",
   "metadata": {},
   "outputs": [
    {
     "name": "stdout",
     "output_type": "stream",
     "text": [
      "ecm opto rga\n"
     ]
    }
   ],
   "source": [
    "print(a[1:25:2])"
   ]
  },
  {
   "cell_type": "code",
   "execution_count": 18,
   "id": "9c4a0280",
   "metadata": {},
   "outputs": [
    {
     "name": "stdout",
     "output_type": "stream",
     "text": [
      "eo  tnrr\n"
     ]
    }
   ],
   "source": [
    "print(a[1:25:3])"
   ]
  },
  {
   "cell_type": "code",
   "execution_count": 19,
   "id": "387cc0db",
   "metadata": {},
   "outputs": [
    {
     "name": "stdout",
     "output_type": "stream",
     "text": [
      "margorp nohtyp ot emoclew\n"
     ]
    }
   ],
   "source": [
    "print(a[::-1])"
   ]
  },
  {
   "cell_type": "code",
   "execution_count": 20,
   "id": "9a3f888c",
   "metadata": {},
   "outputs": [
    {
     "name": "stdout",
     "output_type": "stream",
     "text": [
      "['welcome', 'to', 'python', 'program']\n"
     ]
    }
   ],
   "source": [
    "print(a.split())"
   ]
  },
  {
   "cell_type": "code",
   "execution_count": 21,
   "id": "9d409efc",
   "metadata": {},
   "outputs": [
    {
     "name": "stdout",
     "output_type": "stream",
     "text": [
      "['welcome', 'to', 'python', 'program']\n"
     ]
    }
   ],
   "source": [
    "print(b.split(\"*\"))"
   ]
  },
  {
   "cell_type": "code",
   "execution_count": 22,
   "id": "011ee84f",
   "metadata": {},
   "outputs": [
    {
     "name": "stdout",
     "output_type": "stream",
     "text": [
      "WELCOME TO PYTHON PROGRAM\n",
      "python\n"
     ]
    }
   ],
   "source": [
    "p=\"PYTHON\"\n",
    "print(a.upper())\n",
    "print(p.lower())"
   ]
  },
  {
   "cell_type": "code",
   "execution_count": 23,
   "id": "8883e0d2",
   "metadata": {},
   "outputs": [
    {
     "name": "stdout",
     "output_type": "stream",
     "text": [
      "['Ahmed', 56, True]\n"
     ]
    }
   ],
   "source": [
    "# lists \n",
    "\n",
    "a= ['Ahmed', 56,True]\n",
    "print(a)\n"
   ]
  },
  {
   "cell_type": "code",
   "execution_count": 24,
   "id": "be4578dd",
   "metadata": {},
   "outputs": [
    {
     "name": "stdout",
     "output_type": "stream",
     "text": [
      "['Ahmed', 56, True, 'Ali']\n"
     ]
    }
   ],
   "source": [
    "a.append('Ali')\n",
    "print(a)"
   ]
  },
  {
   "cell_type": "code",
   "execution_count": 26,
   "id": "856e9d4f",
   "metadata": {},
   "outputs": [
    {
     "name": "stdout",
     "output_type": "stream",
     "text": [
      "['Ahmed', 56, True, 'Ali']\n"
     ]
    }
   ],
   "source": [
    "f=a.copy()\n",
    "print(f)"
   ]
  },
  {
   "cell_type": "code",
   "execution_count": 27,
   "id": "d2a589b3",
   "metadata": {},
   "outputs": [
    {
     "name": "stdout",
     "output_type": "stream",
     "text": [
      "['Ahmed', 56, '90', True, 'Ali']\n"
     ]
    }
   ],
   "source": [
    "a.insert(2 , '90')\n",
    "print(a)\n"
   ]
  },
  {
   "cell_type": "code",
   "execution_count": 28,
   "id": "a3b228c5",
   "metadata": {},
   "outputs": [
    {
     "name": "stdout",
     "output_type": "stream",
     "text": [
      "['Ahmed', 56, '90', True]\n"
     ]
    }
   ],
   "source": [
    "a.pop()\n",
    "print(a)"
   ]
  },
  {
   "cell_type": "code",
   "execution_count": 28,
   "id": "6e8d1d0a",
   "metadata": {},
   "outputs": [
    {
     "name": "stdout",
     "output_type": "stream",
     "text": [
      "['Ahmed', '90', True]\n"
     ]
    }
   ],
   "source": [
    "a.pop(1)\n",
    "print(a)"
   ]
  },
  {
   "cell_type": "code",
   "execution_count": 29,
   "id": "5ac48e08",
   "metadata": {},
   "outputs": [
    {
     "name": "stdout",
     "output_type": "stream",
     "text": [
      "['90', True]\n"
     ]
    }
   ],
   "source": [
    "a.remove('Ahmed')\n",
    "print(a)"
   ]
  },
  {
   "cell_type": "code",
   "execution_count": 30,
   "id": "0f1f42fc",
   "metadata": {},
   "outputs": [
    {
     "name": "stdout",
     "output_type": "stream",
     "text": [
      "[True, '90']\n"
     ]
    }
   ],
   "source": [
    "a.reverse()\n",
    "print(a)"
   ]
  },
  {
   "cell_type": "code",
   "execution_count": 31,
   "id": "0ead1242",
   "metadata": {},
   "outputs": [
    {
     "name": "stdout",
     "output_type": "stream",
     "text": [
      "[]\n"
     ]
    }
   ],
   "source": [
    "a.clear()\n",
    "print(a)"
   ]
  },
  {
   "cell_type": "code",
   "execution_count": 32,
   "id": "01732d0a",
   "metadata": {},
   "outputs": [
    {
     "name": "stdout",
     "output_type": "stream",
     "text": [
      "[4, 5, 1, 9, 3, 0, 2]\n",
      "[0, 1, 2, 3, 4, 5, 9]\n"
     ]
    }
   ],
   "source": [
    "num = [4,5,1,9,3,0,2]\n",
    "print(num)\n",
    "num.sort()\n",
    "print(num)"
   ]
  },
  {
   "cell_type": "code",
   "execution_count": null,
   "id": "f78fa775",
   "metadata": {},
   "outputs": [],
   "source": []
  },
  {
   "cell_type": "code",
   "execution_count": 33,
   "id": "4fb0e371",
   "metadata": {},
   "outputs": [
    {
     "name": "stdout",
     "output_type": "stream",
     "text": [
      "5\n",
      "15\n",
      "25\n"
     ]
    }
   ],
   "source": [
    "# الجمل الشرطية \n",
    "## IF \n",
    "\n",
    "x=5 \n",
    "if x==5:\n",
    "    print(x)\n",
    "    print(3*x)\n",
    "print(5*x)\n"
   ]
  },
  {
   "cell_type": "code",
   "execution_count": 34,
   "id": "d9cb578e",
   "metadata": {},
   "outputs": [
    {
     "name": "stdout",
     "output_type": "stream",
     "text": [
      "no Ahmed\n"
     ]
    }
   ],
   "source": [
    "## IF else\n",
    "\n",
    "a=\"Ali\"\n",
    "if a==\"Ahmed\":\n",
    "    print(\"Hello\",a)\n",
    "else:\n",
    "    print(\"no Ahmed\")\n"
   ]
  },
  {
   "cell_type": "code",
   "execution_count": 35,
   "id": "ca952554",
   "metadata": {},
   "outputs": [
    {
     "name": "stdout",
     "output_type": "stream",
     "text": [
      "fail\n"
     ]
    }
   ],
   "source": [
    "## else if >> elif \n",
    "\n",
    "x= 40\n",
    "\n",
    "if x>=90 and x<=100:\n",
    "    print(\"excellent\")\n",
    "elif x>=80 and x<90:\n",
    "    print(\"very good\")\n",
    "elif x>=70 and x<80:\n",
    "    print(\"good\")\n",
    "elif x>=50 and x<70:\n",
    "    print(\"pass\")\n",
    "else:\n",
    "    print(\"fail\")\n",
    "\n"
   ]
  },
  {
   "cell_type": "code",
   "execution_count": 36,
   "id": "73064d64",
   "metadata": {},
   "outputs": [
    {
     "name": "stdout",
     "output_type": "stream",
     "text": [
      "0\n",
      "1\n",
      "2\n",
      "3\n",
      "4\n",
      "5\n",
      "6\n",
      "7\n",
      "8\n",
      "9\n"
     ]
    }
   ],
   "source": [
    "# for loop \n",
    "for k in range(10):\n",
    "    print(k)"
   ]
  },
  {
   "cell_type": "code",
   "execution_count": 29,
   "id": "684949fa",
   "metadata": {},
   "outputs": [
    {
     "name": "stdout",
     "output_type": "stream",
     "text": [
      "2\n",
      "5\n",
      "8\n",
      "11\n",
      "14\n",
      "17\n",
      "20\n"
     ]
    }
   ],
   "source": [
    "for n in range(2,21,3):\n",
    "    print(n)   \n",
    "    "
   ]
  },
  {
   "cell_type": "code",
   "execution_count": 38,
   "id": "bcb7f06e",
   "metadata": {},
   "outputs": [
    {
     "name": "stdout",
     "output_type": "stream",
     "text": [
      "c\n",
      "o\n",
      "m\n",
      "p\n",
      "u\n",
      "t\n",
      "e\n",
      "r\n"
     ]
    }
   ],
   "source": [
    "x='computer' \n",
    "for i in range(len(x)):\n",
    "    print(x[i])"
   ]
  },
  {
   "cell_type": "code",
   "execution_count": 39,
   "id": "82382172",
   "metadata": {},
   "outputs": [
    {
     "name": "stdout",
     "output_type": "stream",
     "text": [
      "d\n",
      "a\n",
      "t\n",
      "a\n",
      "a\n",
      "s\n",
      "e\n"
     ]
    }
   ],
   "source": [
    "t=\"database\"\n",
    "for v in t:\n",
    "    if v=='b':\n",
    "        continue\n",
    "    print(v)"
   ]
  },
  {
   "cell_type": "code",
   "execution_count": 40,
   "id": "1beb2c6c",
   "metadata": {},
   "outputs": [
    {
     "name": "stdout",
     "output_type": "stream",
     "text": [
      "USA\n",
      "FRANCE\n",
      "YEMEN\n"
     ]
    }
   ],
   "source": [
    "countries =['USA','FRANCE','YEMEN']\n",
    "for h in countries:\n",
    "    print(h)"
   ]
  },
  {
   "cell_type": "code",
   "execution_count": 41,
   "id": "7fbdf48b",
   "metadata": {},
   "outputs": [
    {
     "name": "stdout",
     "output_type": "stream",
     "text": [
      "10\n",
      "done\n"
     ]
    }
   ],
   "source": [
    "# while \n",
    "\n",
    "n=10\n",
    "while n<=10:\n",
    "    print(n)\n",
    "    n+=1\n",
    "print('done')"
   ]
  },
  {
   "cell_type": "code",
   "execution_count": 42,
   "id": "c030a57e",
   "metadata": {},
   "outputs": [
    {
     "name": "stdout",
     "output_type": "stream",
     "text": [
      "1\n",
      "2\n",
      "3\n",
      "hello\n"
     ]
    }
   ],
   "source": [
    "x = 1\n",
    "while x<4 :\n",
    "    print(x)\n",
    "    x = x + 1\n",
    "else:\n",
    "        print('hello')"
   ]
  },
  {
   "cell_type": "code",
   "execution_count": 43,
   "id": "5dcd69ac",
   "metadata": {},
   "outputs": [
    {
     "name": "stdout",
     "output_type": "stream",
     "text": [
      "1\n",
      "2\n"
     ]
    }
   ],
   "source": [
    "x = 1\n",
    "while x<5 :\n",
    "    print(x)\n",
    "    x = x + 1\n",
    "    if x == 3:\n",
    "        break "
   ]
  },
  {
   "cell_type": "code",
   "execution_count": 44,
   "id": "477064e0",
   "metadata": {},
   "outputs": [
    {
     "name": "stdout",
     "output_type": "stream",
     "text": [
      "1\n",
      "2\n",
      "3\n",
      "4\n"
     ]
    }
   ],
   "source": [
    "x = 1\n",
    "while x<5 :\n",
    "    print(x)\n",
    "    x = x + 1\n",
    "    if x == 3:\n",
    "        continue"
   ]
  },
  {
   "cell_type": "code",
   "execution_count": 45,
   "id": "a23c5537",
   "metadata": {},
   "outputs": [
    {
     "name": "stdout",
     "output_type": "stream",
     "text": [
      "*\n",
      "*\n",
      "*\n",
      "*\n",
      "*\n"
     ]
    }
   ],
   "source": [
    "# function \n",
    "\n",
    "def star():\n",
    "    for h in range(5):\n",
    "        print('*')\n",
    "star()"
   ]
  },
  {
   "cell_type": "code",
   "execution_count": 46,
   "id": "fca97bd6",
   "metadata": {},
   "outputs": [
    {
     "name": "stdout",
     "output_type": "stream",
     "text": [
      "*\n",
      "*\n",
      "*\n",
      "*\n",
      "*\n"
     ]
    }
   ],
   "source": [
    "s=star()\n"
   ]
  },
  {
   "cell_type": "code",
   "execution_count": 47,
   "id": "744c7566",
   "metadata": {},
   "outputs": [
    {
     "name": "stdout",
     "output_type": "stream",
     "text": [
      "average is  85.33333333333333\n"
     ]
    }
   ],
   "source": [
    "def find_avg(a,b,c,d,e,f):\n",
    "    average=(a+b+c+d+e+f)/6\n",
    "    print(\"average is \",average)\n",
    "find_avg(80,76,85,90,93,88)"
   ]
  },
  {
   "cell_type": "code",
   "execution_count": 48,
   "id": "06708a85",
   "metadata": {},
   "outputs": [
    {
     "name": "stdout",
     "output_type": "stream",
     "text": [
      "average is  72.5\n",
      "(70, 75)\n",
      "average is  85.0\n",
      "(80, 88, 87)\n",
      "average is  68.6\n",
      "(65, 76, 56, 74, 72)\n"
     ]
    }
   ],
   "source": [
    "def find_avg(*numbers):\n",
    "    sum=0\n",
    "    for i in numbers:\n",
    "        sum+=i\n",
    "    print(\"average is \", sum/(len(numbers)))\n",
    "    print(numbers)\n",
    "find_avg(70,75)\n",
    "find_avg(80,88,87)\n",
    "find_avg(65,76,56,74,72)"
   ]
  },
  {
   "cell_type": "code",
   "execution_count": 49,
   "id": "f1d937c7",
   "metadata": {},
   "outputs": [
    {
     "name": "stdout",
     "output_type": "stream",
     "text": [
      "9\n"
     ]
    }
   ],
   "source": [
    "def powers(m,n):\n",
    "    print(m**(n))\n",
    "powers(m=3,n=2)"
   ]
  },
  {
   "cell_type": "code",
   "execution_count": 50,
   "id": "145a6cde",
   "metadata": {},
   "outputs": [
    {
     "name": "stdout",
     "output_type": "stream",
     "text": [
      "8\n"
     ]
    }
   ],
   "source": [
    "def power(y,c):\n",
    "    x=y**c\n",
    "    return x\n",
    "print(power(2,3))"
   ]
  }
 ],
 "metadata": {
  "kernelspec": {
   "display_name": "Python 3 (ipykernel)",
   "language": "python",
   "name": "python3"
  },
  "language_info": {
   "codemirror_mode": {
    "name": "ipython",
    "version": 3
   },
   "file_extension": ".py",
   "mimetype": "text/x-python",
   "name": "python",
   "nbconvert_exporter": "python",
   "pygments_lexer": "ipython3",
   "version": "3.10.9"
  }
 },
 "nbformat": 4,
 "nbformat_minor": 5
}
